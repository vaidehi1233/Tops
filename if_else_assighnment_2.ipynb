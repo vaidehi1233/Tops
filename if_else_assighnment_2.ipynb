{
 "cells": [
  {
   "cell_type": "markdown",
   "id": "8fef197e",
   "metadata": {},
   "source": [
    "#### Railway Ticket Booking System\n",
    "Problem:\n",
    "Check if the train is available.\n",
    "\n",
    "If available → check if seats are available.\n",
    "\n",
    "If seats available → check if payment is successful."
   ]
  },
  {
   "cell_type": "code",
   "execution_count": null,
   "id": "aba9f1df",
   "metadata": {},
   "outputs": [],
   "source": [
    "print(\"WELCOME TO THE RAILWAY BOOKING SYSTEM\")\n",
    "\n",
    "# Inputs\n",
    "destiny = input(\"Kahan jana chahte ho aap?: \").lower()\n",
    "destination = \"madhyapradesh\"\n",
    "\n",
    "print(\"Available dates:\")\n",
    "print(\"1: 20/05/2025\")\n",
    "print(\"2: 21/05/2025\")\n",
    "date_choice = int(input(\"Konsi date book karni he? (1 or 2): \"))\n",
    "\n",
    "train_is_available = \"yes\"\n",
    "class_train = input(\"Which class you want to travel (first, second, ya local)?: \").lower()\n",
    "available_class = \"second\"\n",
    "\n",
    "seats = int(input(\"How many seats you want to book?: \"))\n",
    "book_seats = 2\n",
    "\n",
    "# Booking Logic with only if-else\n",
    "if destiny == destination:\n",
    "    print(\"Haan, vahan par aap train se jaa sakte ho.\")\n",
    "\n",
    "    if date_choice == 1 or date_choice == 2:\n",
    "        if date_choice == 1:\n",
    "            print(\"Train available on 20/05/2025.\")\n",
    "        else:\n",
    "            print(\"Train available on 21/05/2025.\")\n",
    "\n",
    "        if train_is_available == \"yes\":\n",
    "            print(\"Haan, train available hai.\")\n",
    "\n",
    "            if class_train == available_class:\n",
    "                print(\"Congratulations, second class is available for you.\")\n",
    "\n",
    "                if seats <= book_seats:\n",
    "                    print(\"Congrats, seats are available. Booking confirmed!\")\n",
    "                else:\n",
    "                    print(\"Sorry, itni seats available nahi hai.\")\n",
    "            else:\n",
    "                print(\"Sorry, selected class available nahi hai.\")\n",
    "        else:\n",
    "            print(\"Sorry, train available nahi hai.\")\n",
    "    else:\n",
    "        print(\"Is date mein booking nahi ho sakti. Train available nahi hai.\")\n",
    "else:\n",
    "    print(\"Aapki destination mein train nahi jaati.\")\n"
   ]
  },
  {
   "cell_type": "markdown",
   "id": "ff2c912b",
   "metadata": {},
   "source": [
    "#### Restaurant Food Order System\n",
    "\n",
    "Check if restaurant is open.\n",
    "If open→ check if dish is available.\n",
    "If available → check if customer wants home delivery."
   ]
  },
  {
   "cell_type": "code",
   "execution_count": null,
   "id": "8f4ac128",
   "metadata": {},
   "outputs": [],
   "source": [
    "restaurant_open = True\n",
    "dish_available = True\n",
    "\n",
    "# Only one user input\n",
    "if restaurant_open:\n",
    "    if dish_available:\n",
    "        home_delivery = input(\"Do you want home delivery? (yes/no): \")\n",
    "        if home_delivery == \"yes\":\n",
    "            print(\" Your order will be delivered to your home.\")\n",
    "        else:\n",
    "            print(\" Your order is ready. Please visit the restaurant.\")\n",
    "    else:\n",
    "        print(\" Sorry, the dish is not available.\")\n",
    "else:\n",
    "    print(\" Restaurant is closed.\")"
   ]
  },
  {
   "cell_type": "markdown",
   "id": "0c3f7738",
   "metadata": {},
   "source": [
    "#### College Admission System\n",
    "\n",
    "Check if marks ≥ 80 (eligible).\n",
    "If eligible → check if preferred course has seats.\n",
    "If seats available → confirm admission."
   ]
  },
  {
   "cell_type": "code",
   "execution_count": null,
   "id": "cd4c6690",
   "metadata": {},
   "outputs": [],
   "source": [
    "marks = int(input(\"Enter your marks: \"))\n",
    "seats_available = True  \n",
    "\n",
    "if marks >= 80:\n",
    "    print(\" You are eligible.\")\n",
    "    if seats_available:\n",
    "        print(\" Admission confirmed!\")\n",
    "    else:\n",
    "        print(\" Course full. Try another course.\")\n",
    "else:\n",
    "    print(\" Not eligible for admission.\")\n"
   ]
  },
  {
   "cell_type": "markdown",
   "id": "8d951e5d",
   "metadata": {},
   "source": [
    "#### Online Shopping Payment System\n",
    "\n",
    "Check if item is in stock.\n",
    "If in stock → check if payment method selected.\n",
    "If selected → check if payment successful."
   ]
  },
  {
   "cell_type": "code",
   "execution_count": null,
   "id": "fa068247",
   "metadata": {},
   "outputs": [],
   "source": [
    "print(\"WELCOME TO ONLINE SHOPPING SYSTEM\")\n",
    "\n",
    "\n",
    "item_in_stock = True\n",
    "\n",
    "if item_in_stock:\n",
    "    print(\"Item is in stock.\")\n",
    "\n",
    "    \n",
    "    payment_method = input(\"Choose payment method (UPI / Card / Cash): \")\n",
    "\n",
    "    if payment_method in [\"upi\", \"card\", \"cash\"]:\n",
    "        print(f\"Payment method selected: {payment_method.upper()}\")\n",
    "        \n",
    "        payment_success = input(\"Is payment successful? (yes / no): \")\n",
    "\n",
    "        if payment_success == \"yes\":\n",
    "            print(\" Payment successful! Your order has been placed.\")\n",
    "        else:\n",
    "            print(\" Payment failed. Please try again.\")\n",
    "    else:\n",
    "        print(\" No valid payment method selected.\")\n",
    "else:\n",
    "    print(\" Sorry, the item is out of stock.\")\n"
   ]
  },
  {
   "cell_type": "markdown",
   "id": "6f3008c8",
   "metadata": {},
   "source": [
    "#### Hospital Appointment Booking\n",
    "\n",
    "Check if doctor is available.\n",
    "If available → check if slot is available.\n",
    "If slot available → confirm appointment."
   ]
  },
  {
   "cell_type": "code",
   "execution_count": null,
   "id": "bc916d99",
   "metadata": {},
   "outputs": [],
   "source": [
    "print(\"WELCOME TO HOSPITAL APPOINTMENT BOOKING\")\n",
    "\n",
    "doctor = input(\"Kis doctor se appointment chahiye? (e.g., dr.ravi): \").lower()\n",
    "available_doctor = \"dr.ravi\"\n",
    "slot = input(\"Kaunsa slot chahiye? (morning/evening): \").lower()\n",
    "available_slot = \"morning\"\n",
    "if doctor == available_doctor:\n",
    "    print(f\"{available_doctor.title()} available hai.\")\n",
    "\n",
    "    if slot == available_slot:\n",
    "        print(f\"{available_slot.title()} slot available hai.\")\n",
    "        print(\"🎉 Appointment confirmed! \")\n",
    "    else:\n",
    "        print(\" Sorry, selected slot available nahi hai.\")\n",
    "else:\n",
    "    print(\" Sorry, doctor available nahi hai.\")\n"
   ]
  },
  {
   "cell_type": "code",
   "execution_count": null,
   "id": "edbb0ab5",
   "metadata": {},
   "outputs": [],
   "source": []
  },
  {
   "cell_type": "code",
   "execution_count": null,
   "id": "23241bcf",
   "metadata": {},
   "outputs": [],
   "source": []
  },
  {
   "cell_type": "code",
   "execution_count": null,
   "id": "1afcdc1a",
   "metadata": {},
   "outputs": [],
   "source": []
  },
  {
   "cell_type": "code",
   "execution_count": null,
   "id": "c85b20a4",
   "metadata": {},
   "outputs": [],
   "source": []
  },
  {
   "cell_type": "code",
   "execution_count": null,
   "id": "f584eebd",
   "metadata": {},
   "outputs": [],
   "source": []
  },
  {
   "cell_type": "code",
   "execution_count": null,
   "id": "ccb504dd",
   "metadata": {},
   "outputs": [],
   "source": []
  },
  {
   "cell_type": "code",
   "execution_count": null,
   "id": "4a80b3ee",
   "metadata": {},
   "outputs": [],
   "source": []
  },
  {
   "cell_type": "code",
   "execution_count": null,
   "id": "e4b89a41",
   "metadata": {},
   "outputs": [],
   "source": []
  },
  {
   "cell_type": "code",
   "execution_count": null,
   "id": "070b45e2",
   "metadata": {},
   "outputs": [],
   "source": []
  },
  {
   "cell_type": "code",
   "execution_count": null,
   "id": "2b62d31c",
   "metadata": {},
   "outputs": [],
   "source": []
  },
  {
   "cell_type": "code",
   "execution_count": null,
   "id": "306c7f4f",
   "metadata": {},
   "outputs": [],
   "source": []
  },
  {
   "cell_type": "code",
   "execution_count": null,
   "id": "9d3cd4a7",
   "metadata": {},
   "outputs": [],
   "source": []
  },
  {
   "cell_type": "code",
   "execution_count": null,
   "id": "bb3ad367",
   "metadata": {},
   "outputs": [],
   "source": []
  },
  {
   "cell_type": "code",
   "execution_count": null,
   "id": "8f34d665",
   "metadata": {},
   "outputs": [],
   "source": []
  },
  {
   "cell_type": "code",
   "execution_count": null,
   "id": "d5b1af3a",
   "metadata": {},
   "outputs": [],
   "source": []
  },
  {
   "cell_type": "code",
   "execution_count": null,
   "id": "5cb1bc71",
   "metadata": {},
   "outputs": [],
   "source": []
  },
  {
   "cell_type": "code",
   "execution_count": null,
   "id": "6512da65",
   "metadata": {},
   "outputs": [],
   "source": []
  },
  {
   "cell_type": "code",
   "execution_count": null,
   "id": "3f16193f",
   "metadata": {},
   "outputs": [],
   "source": []
  },
  {
   "cell_type": "code",
   "execution_count": null,
   "id": "844af824",
   "metadata": {},
   "outputs": [],
   "source": []
  },
  {
   "cell_type": "code",
   "execution_count": null,
   "id": "0bd9b783",
   "metadata": {},
   "outputs": [],
   "source": []
  },
  {
   "cell_type": "code",
   "execution_count": null,
   "id": "3d2fb8af",
   "metadata": {},
   "outputs": [],
   "source": []
  },
  {
   "cell_type": "code",
   "execution_count": null,
   "id": "208b2983",
   "metadata": {},
   "outputs": [],
   "source": []
  },
  {
   "cell_type": "code",
   "execution_count": null,
   "id": "b1a36323",
   "metadata": {},
   "outputs": [],
   "source": []
  },
  {
   "cell_type": "code",
   "execution_count": null,
   "id": "19de2ee7",
   "metadata": {},
   "outputs": [],
   "source": []
  },
  {
   "cell_type": "code",
   "execution_count": null,
   "id": "5ea2a0e4",
   "metadata": {},
   "outputs": [],
   "source": []
  },
  {
   "cell_type": "code",
   "execution_count": null,
   "id": "6b5ef9b7",
   "metadata": {},
   "outputs": [],
   "source": []
  },
  {
   "cell_type": "code",
   "execution_count": null,
   "id": "957e66b2",
   "metadata": {},
   "outputs": [],
   "source": []
  }
 ],
 "metadata": {
  "kernelspec": {
   "display_name": "Python 3",
   "language": "python",
   "name": "python3"
  },
  "language_info": {
   "codemirror_mode": {
    "name": "ipython",
    "version": 3
   },
   "file_extension": ".py",
   "mimetype": "text/x-python",
   "name": "python",
   "nbconvert_exporter": "python",
   "pygments_lexer": "ipython3",
   "version": "3.12.4"
  }
 },
 "nbformat": 4,
 "nbformat_minor": 5
}
