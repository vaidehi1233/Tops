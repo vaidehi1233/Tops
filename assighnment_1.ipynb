{
 "cells": [
  {
   "cell_type": "markdown",
   "id": "970336e4",
   "metadata": {},
   "source": [
    "### modul-2"
   ]
  },
  {
   "cell_type": "markdown",
   "id": "7152c47c",
   "metadata": {},
   "source": [
    "##### (1) Write a python program to sum of the first n positive integers."
   ]
  },
  {
   "cell_type": "code",
   "execution_count": 3,
   "id": "6ef3f8e6",
   "metadata": {},
   "outputs": [
    {
     "name": "stdout",
     "output_type": "stream",
     "text": [
      "print sum of first 7 positive integer is:28\n"
     ]
    }
   ],
   "source": [
    "#take input from the the user\n",
    "n = int(input(\"enter a positive number: \"))\n",
    "\n",
    "# mathamatical formula to calculate the first n positive number\n",
    "\n",
    "total = n * (n+1) // 2\n",
    "print(f\"print sum of first {n} positive integer is:{total}\")\n"
   ]
  },
  {
   "cell_type": "markdown",
   "id": "da81e7b6",
   "metadata": {},
   "source": [
    "##### 2. Write a Python program to count occurrences of a substring in a string."
   ]
  },
  {
   "cell_type": "code",
   "execution_count": 9,
   "id": "4b7d3a4c",
   "metadata": {},
   "outputs": [
    {
     "name": "stdout",
     "output_type": "stream",
     "text": [
      "main_string is : vaidehi\n",
      "subsrtring is : name\n",
      "the substring occurrence is : 0\n",
      "the 'name' appears 0 times in the main_string vaidehi\n"
     ]
    }
   ],
   "source": [
    "main_string = input(\"enter a main_string: \")\n",
    "print(f\"main_string is : {main_string}\")\n",
    "\n",
    "substring = input(\"enter a substring: \")\n",
    "print(f\"subsrtring is : {substring}\" )\n",
    "\n",
    "count = main_string.count(substring)\n",
    "print(f\"the substring occurrence is : {count}\")\n",
    "\n",
    "print(f\"the '{substring}' appears {count} times in the main_string {main_string}\")\n",
    "\n"
   ]
  },
  {
   "cell_type": "markdown",
   "id": "3a31faae",
   "metadata": {},
   "source": [
    "##### 3. Write a Python program to count the occurrences of each word in a givensentence"
   ]
  },
  {
   "cell_type": "code",
   "execution_count": 13,
   "id": "547c9875",
   "metadata": {},
   "outputs": [
    {
     "name": "stdout",
     "output_type": "stream",
     "text": [
      "python is fun python is easy\n",
      "['python', 'is', 'fun', 'python', 'is', 'easy']\n",
      "python:2\n",
      "is:2\n",
      "fun:1\n",
      "easy:1\n"
     ]
    }
   ],
   "source": [
    "## here the sentence, count the occurrence of each word\n",
    "sentence = \"python is fun python is easy\"\n",
    "print(sentence)\n",
    "\n",
    "words = sentence.lower().split() #we need to convert in lower case beacause python takes upper case and lower case as a diff words\n",
    "print(words)\n",
    "\n",
    "## create empty dictionary\n",
    "count_word = {} # this is the empty dictionary to stores the words with occurrencing number, so the word is key and the number is value of occurenc\n",
    "\n",
    "for word in words:\n",
    "    if word in count_word:\n",
    "        count_word[word] +=1\n",
    "    else:\n",
    "        count_word[word] = 1\n",
    "\n",
    "# now print the words and occurrence in sentence \n",
    "\n",
    "for word, count in count_word.items():\n",
    "    print(f\"{word}:{count}\")\n",
    "    \n",
    "\n",
    "\n",
    "\n",
    "\n",
    "\n"
   ]
  },
  {
   "cell_type": "markdown",
   "id": "e2ab26db",
   "metadata": {},
   "source": [
    "##### 4. Write a Python program to get a single string from two given strings, separatedbya space and swap the first two characters of each string."
   ]
  },
  {
   "cell_type": "code",
   "execution_count": 2,
   "id": "f296c45f",
   "metadata": {},
   "outputs": [
    {
     "name": "stdout",
     "output_type": "stream",
     "text": [
      "Result: chidehi vaaudhary\n"
     ]
    }
   ],
   "source": [
    "# Input strings\n",
    "str1 = input(\"Enter first string: \")\n",
    "str2 = input(\"Enter second string: \")\n",
    "\n",
    "# Swap first two characters\n",
    "new_str1 = str2[:2] + str1[2:]\n",
    "new_str2 = str1[:2] + str2[2:]\n",
    "\n",
    "# Combine them with a space\n",
    "result = new_str1 + \" \" + new_str2\n",
    "\n",
    "# Print the result\n",
    "print(\"Result:\", result)"
   ]
  },
  {
   "cell_type": "markdown",
   "id": "d12a1d82",
   "metadata": {},
   "source": [
    "##### 5. Write a Python program to add 'ing' at the end of a given string (length should be at least 3). If the given string already ends with 'ing' then add 'ly' instead If thestring length of the given string is less than 3, leave it unchanged"
   ]
  },
  {
   "cell_type": "code",
   "execution_count": null,
   "id": "649dc772",
   "metadata": {},
   "outputs": [],
   "source": [
    "  "
   ]
  },
  {
   "cell_type": "markdown",
   "id": "a84c5aad",
   "metadata": {},
   "source": [
    "##### 6. Write a Python program to find the first appearance of the substring 'not' and'poor' from a given string, if 'not' follows the 'poor', replace the whole 'not'...'poor' substring with 'good'. Return the resulting string"
   ]
  },
  {
   "cell_type": "code",
   "execution_count": 3,
   "id": "34551af5",
   "metadata": {},
   "outputs": [
    {
     "name": "stdout",
     "output_type": "stream",
     "text": [
      "the food is good\n",
      "this movie is good\n",
      "python is poor but not bad\n"
     ]
    }
   ],
   "source": [
    "def check_str(s):\n",
    "    not_pos = s.find('not')\n",
    "    poor_pos = s.find('poor')\n",
    "\n",
    "    if not_pos != -1 and poor_pos != -1 and poor_pos > not_pos:\n",
    "        s = s[:not_pos] + 'good' + s[poor_pos+4:]\n",
    "    return s\n",
    "\n",
    "\n",
    "print(check_str(\"the food is not that poor\"))  \n",
    "print(check_str(\"this movie is not so poor\"))  \n",
    "print(check_str(\"python is poor but not bad\"))\n"
   ]
  },
  {
   "cell_type": "markdown",
   "id": "66bb4bad",
   "metadata": {},
   "source": [
    "##### 7. Program to find Greatest Common Divisor of two numbers. For example, theGCD of 20 and 28 is 4 and the GCD of 98 and 56 is 14."
   ]
  },
  {
   "cell_type": "code",
   "execution_count": 4,
   "id": "19d60eab",
   "metadata": {},
   "outputs": [
    {
     "name": "stdout",
     "output_type": "stream",
     "text": [
      "4\n",
      "14\n"
     ]
    }
   ],
   "source": [
    "def gcd(a,b):\n",
    "    while b!=0:\n",
    "        a,b = b, a%b\n",
    "    return a\n",
    "\n",
    "print(gcd(20,28))  \n",
    "print(gcd(98,56))  \n"
   ]
  },
  {
   "cell_type": "markdown",
   "id": "c7fd80ff",
   "metadata": {},
   "source": [
    "#### 8. Write a Python program to check whether a list contains a sublist."
   ]
  },
  {
   "cell_type": "code",
   "execution_count": null,
   "id": "c5c0cc22",
   "metadata": {},
   "outputs": [],
   "source": [
    "def check_sublist(lst, sub):\n",
    "    for i in range(len(lst)-len(sub)+1):\n",
    "        if lst[i:i+len(sub)] == sub:\n",
    "            return True\n",
    "    return False\n",
    "\n",
    "# test\n",
    "print(check_sublist([1,2,3,4,5],[2,3]))  \n",
    "print(check_sublist([1,2,3,4,5],[3,5]))  \n"
   ]
  },
  {
   "cell_type": "markdown",
   "id": "8ab52369",
   "metadata": {},
   "source": [
    "#### 9. Write a Python program to find the second smallest number in a list"
   ]
  },
  {
   "cell_type": "code",
   "execution_count": null,
   "id": "37d6c8aa",
   "metadata": {},
   "outputs": [],
   "source": [
    "def second_small(lst):\n",
    "    lst = sorted(set(lst))\n",
    "    return lst[1]\n",
    "\n",
    "# test\n",
    "print(second_small([5,2,8,1,9,2]))\n",
    "print(second_small([10,20,30,40]))\n"
   ]
  },
  {
   "cell_type": "markdown",
   "id": "b21c84fb",
   "metadata": {},
   "source": [
    "#### 10.Write a Python program to get unique values from a list."
   ]
  },
  {
   "cell_type": "code",
   "execution_count": 5,
   "id": "c2da54cb",
   "metadata": {},
   "outputs": [
    {
     "name": "stdout",
     "output_type": "stream",
     "text": [
      "[1, 2, 3, 4, 5]\n",
      "['a', 'c', 'b']\n"
     ]
    }
   ],
   "source": [
    "def unique_vals(lst):\n",
    "    return list(set(lst))\n",
    "\n",
    "# test\n",
    "print(unique_vals([1,2,2,3,4,4,5]))\n",
    "print(unique_vals([\"a\",\"b\",\"a\",\"c\",\"b\"]))\n"
   ]
  },
  {
   "cell_type": "markdown",
   "id": "5a0018a6",
   "metadata": {},
   "source": [
    "#### 11.Write a Python program to unzip a list of tuples into individual lists"
   ]
  },
  {
   "cell_type": "code",
   "execution_count": 6,
   "id": "4e9a5d79",
   "metadata": {},
   "outputs": [
    {
     "name": "stdout",
     "output_type": "stream",
     "text": [
      "[(1, 3, 5), (2, 4, 6)]\n"
     ]
    }
   ],
   "source": [
    "def unzip_list(tuples):\n",
    "    return list(zip(*tuples))\n",
    "\n",
    "# test\n",
    "data = [(1,2),(3,4),(5,6)]\n",
    "print(unzip_list(data))\n"
   ]
  },
  {
   "cell_type": "markdown",
   "id": "7924fa1e",
   "metadata": {},
   "source": [
    "#### 12.Write a Python program to convert a list of tuples into a dictionary"
   ]
  },
  {
   "cell_type": "code",
   "execution_count": 7,
   "id": "7bc2a41a",
   "metadata": {},
   "outputs": [
    {
     "name": "stdout",
     "output_type": "stream",
     "text": [
      "{'a': 1, 'b': 2, 'c': 3}\n"
     ]
    }
   ],
   "source": [
    "def tup_to_dict(lst):\n",
    "    return dict(lst)\n",
    "\n",
    "# test\n",
    "data = [(\"a\",1),(\"b\",2),(\"c\",3)]\n",
    "print(tup_to_dict(data))\n"
   ]
  },
  {
   "cell_type": "markdown",
   "id": "e050a9f2",
   "metadata": {},
   "source": [
    "#### 13.Write a Python program to sort a dictionary (ascending /descending) by value."
   ]
  },
  {
   "cell_type": "code",
   "execution_count": 8,
   "id": "c94573c4",
   "metadata": {},
   "outputs": [
    {
     "name": "stdout",
     "output_type": "stream",
     "text": [
      "({'b': 1, 'c': 2, 'a': 3}, {'a': 3, 'c': 2, 'b': 1})\n"
     ]
    }
   ],
   "source": [
    "def sort_dict(d):\n",
    "    asc = dict(sorted(d.items(), key=lambda x:x[1]))\n",
    "    desc = dict(sorted(d.items(), key=lambda x:x[1], reverse=True))\n",
    "    return asc, desc\n",
    "\n",
    "# test\n",
    "data = {\"a\":3,\"b\":1,\"c\":2}\n",
    "print(sort_dict(data))\n"
   ]
  },
  {
   "cell_type": "markdown",
   "id": "948752b6",
   "metadata": {},
   "source": [
    "#### 14.Write a Python program to find the highest 3 values in a dictionary."
   ]
  },
  {
   "cell_type": "code",
   "execution_count": 9,
   "id": "1f10466e",
   "metadata": {},
   "outputs": [
    {
     "name": "stdout",
     "output_type": "stream",
     "text": [
      "[20, 15, 10]\n"
     ]
    }
   ],
   "source": [
    "def top3_vals(d):\n",
    "    return sorted(d.values(), reverse=True)[:3]\n",
    "\n",
    "# test\n",
    "data = {\"a\":10,\"b\":5,\"c\":8,\"d\":20,\"e\":15}\n",
    "print(top3_vals(data))\n"
   ]
  },
  {
   "cell_type": "markdown",
   "id": "093e32a6",
   "metadata": {},
   "source": [
    "#### 15.Given a number n, write a python program to make and print the list of Fibonacci\n",
    "series up to n. Input : n=7 Hint : first 7 numbers in the series Expected output :\n",
    "First few Fibonacci numbers are 0, 1, 1, 2, 3, 5, 8, 13"
   ]
  },
  {
   "cell_type": "code",
   "execution_count": 10,
   "id": "064066c2",
   "metadata": {},
   "outputs": [
    {
     "name": "stdout",
     "output_type": "stream",
     "text": [
      "[0, 1, 1, 2, 3, 5, 8]\n",
      "[0, 1, 1, 2, 3, 5, 8, 13, 21, 34]\n"
     ]
    }
   ],
   "source": [
    "def fibo(n):\n",
    "    a,b = 0,1\n",
    "    lst = []\n",
    "    for i in range(n):\n",
    "        lst.append(a)\n",
    "        a,b = b,a+b\n",
    "    return lst\n",
    "\n",
    "# test\n",
    "print(fibo(7))\n",
    "print(fibo(10))\n"
   ]
  },
  {
   "cell_type": "markdown",
   "id": "62cf325e",
   "metadata": {},
   "source": [
    "#### 16.Counting the frequencies in a list using a dictionary in Python. Input : [1, 1, 1, 5, 5, 3, 1, 3, 3, 1,4, 4, 4, 2, 2, 2, 2]\n",
    "Expected output : 1 : 5 , 2 : 4 , 3 : 3 , 4 : 3 , 5 : 2"
   ]
  },
  {
   "cell_type": "code",
   "execution_count": 11,
   "id": "f751e4ea",
   "metadata": {},
   "outputs": [
    {
     "name": "stdout",
     "output_type": "stream",
     "text": [
      "{1: 5, 5: 2, 3: 3, 4: 3, 2: 4}\n"
     ]
    }
   ],
   "source": [
    "def freq_count(lst):\n",
    "    d = {}\n",
    "    for i in lst:\n",
    "        d[i] = d.get(i,0) + 1\n",
    "    return d\n",
    "\n",
    "# test\n",
    "data = [1,1,1,5,5,3,1,3,3,1,4,4,4,2,2,2,2]\n",
    "print(freq_count(data))\n"
   ]
  },
  {
   "cell_type": "markdown",
   "id": "ddefb853",
   "metadata": {},
   "source": [
    "#### 17.Write a python program using function to find the sum of odd series andevenseries Odd series: 12/ 1! +32/ 3! + 52/ 5!+……n Even series: 22/ 2! + 42/ 4! + 62/ 6!+……n"
   ]
  },
  {
   "cell_type": "code",
   "execution_count": 12,
   "id": "af473370",
   "metadata": {},
   "outputs": [
    {
     "name": "stdout",
     "output_type": "stream",
     "text": [
      "Odd series sum: 2.718055555555556\n",
      "Even series sum: 2.718253968253968\n"
     ]
    }
   ],
   "source": [
    "import math\n",
    "\n",
    "def odd_series(n):\n",
    "    s = 0\n",
    "    for i in range(1, n+1, 2):\n",
    "        s += (i**2) / math.factorial(i)\n",
    "    return s\n",
    "\n",
    "def even_series(n):\n",
    "    s = 0\n",
    "    for i in range(2, n+1, 2):\n",
    "        s += (i**2) / math.factorial(i)\n",
    "    return s\n",
    "\n",
    "# test\n",
    "print(\"Odd series sum:\", odd_series(7))\n",
    "print(\"Even series sum:\", even_series(8))\n"
   ]
  },
  {
   "cell_type": "markdown",
   "id": "27854065",
   "metadata": {},
   "source": [
    "#### 18. Python Program to Find Factorial of Number Using Recursion"
   ]
  },
  {
   "cell_type": "code",
   "execution_count": 13,
   "id": "258d68d7",
   "metadata": {},
   "outputs": [
    {
     "name": "stdout",
     "output_type": "stream",
     "text": [
      "120\n",
      "5040\n"
     ]
    }
   ],
   "source": [
    "def fact(n):\n",
    "    if n==0 or n==1:\n",
    "        return 1\n",
    "    return n * fact(n-1)\n",
    "\n",
    "# test\n",
    "print(fact(5))\n",
    "print(fact(7))\n"
   ]
  },
  {
   "cell_type": "markdown",
   "id": "911bcbed",
   "metadata": {},
   "source": [
    "#### 19.Write a Python function that takes a list and returns a new list with unique\n",
    "elements of the first list."
   ]
  },
  {
   "cell_type": "code",
   "execution_count": 14,
   "id": "7d6db69e",
   "metadata": {},
   "outputs": [
    {
     "name": "stdout",
     "output_type": "stream",
     "text": [
      "[1, 2, 3, 4, 5]\n",
      "['a', 'c', 'b']\n"
     ]
    }
   ],
   "source": [
    "def unique_list(lst):\n",
    "    return list(set(lst))\n",
    "\n",
    "# test\n",
    "print(unique_list([1,2,2,3,4,4,5,1]))\n",
    "print(unique_list([\"a\",\"b\",\"a\",\"c\",\"b\"]))\n"
   ]
  },
  {
   "cell_type": "markdown",
   "id": "fe6850be",
   "metadata": {},
   "source": [
    "##### 20.Mini project :\n",
    "Problem Statement : Password Generator\n",
    "Make a program to generate a strong password using the input given by theuser. To generate a password, randomly take some words from the user input andtheninclude numbers, special characters and capital letters to generate the password. Also, keep a check that password length is more than 8 characters. Note: Include Exception handling wherever required. Also, make a ‘User’ classand store the details like user id, name and password of each user as tuple"
   ]
  },
  {
   "cell_type": "code",
   "execution_count": 15,
   "id": "d3907c9e",
   "metadata": {},
   "outputs": [
    {
     "name": "stdout",
     "output_type": "stream",
     "text": [
      "Generated Password: coding73#HELLO\n",
      "User Details: (101, 'vaidehi', 'coding73#HELLO')\n"
     ]
    }
   ],
   "source": [
    "import random\n",
    "import string\n",
    "\n",
    "class User:\n",
    "    def __init__(self, uid, name, pwd):\n",
    "        self.details = (uid, name, pwd)\n",
    "\n",
    "def gen_password(text):\n",
    "    try:\n",
    "        words = text.split()\n",
    "        if not words:\n",
    "            raise ValueError(\"input empty he\")\n",
    "\n",
    "        # random words uthao\n",
    "        part = random.choice(words)\n",
    "        part2 = random.choice(words).upper()\n",
    "\n",
    "        # numbers + symbols add\n",
    "        nums = str(random.randint(10,99))\n",
    "        sym = random.choice(\"!@#$%^&*\")\n",
    "\n",
    "        pwd = part + nums + sym + part2\n",
    "\n",
    "        if len(pwd) < 8:\n",
    "            pwd += random.choice(string.ascii_letters) + str(random.randint(0,9))\n",
    "\n",
    "        return pwd\n",
    "    except Exception as e:\n",
    "        return str(e)\n",
    "\n",
    "# test\n",
    "text = \"hello world python coding\"\n",
    "password = gen_password(text)\n",
    "u1 = User(101,\"vaidehi\",password)\n",
    "\n",
    "print(\"Generated Password:\", password)\n",
    "print(\"User Details:\", u1.details)\n"
   ]
  },
  {
   "cell_type": "code",
   "execution_count": null,
   "id": "fbee9d72",
   "metadata": {},
   "outputs": [],
   "source": []
  },
  {
   "cell_type": "code",
   "execution_count": null,
   "id": "54f070af",
   "metadata": {},
   "outputs": [],
   "source": []
  },
  {
   "cell_type": "code",
   "execution_count": null,
   "id": "bdaa55af",
   "metadata": {},
   "outputs": [],
   "source": []
  },
  {
   "cell_type": "code",
   "execution_count": null,
   "id": "75e8d32a",
   "metadata": {},
   "outputs": [],
   "source": []
  },
  {
   "cell_type": "code",
   "execution_count": null,
   "id": "e0d85695",
   "metadata": {},
   "outputs": [],
   "source": []
  },
  {
   "cell_type": "code",
   "execution_count": null,
   "id": "0de0d89f",
   "metadata": {},
   "outputs": [],
   "source": []
  },
  {
   "cell_type": "code",
   "execution_count": null,
   "id": "0b972fb9",
   "metadata": {},
   "outputs": [],
   "source": []
  },
  {
   "cell_type": "code",
   "execution_count": null,
   "id": "6baad5e2",
   "metadata": {},
   "outputs": [],
   "source": []
  },
  {
   "cell_type": "code",
   "execution_count": null,
   "id": "f32ffd5e",
   "metadata": {},
   "outputs": [],
   "source": []
  },
  {
   "cell_type": "code",
   "execution_count": null,
   "id": "f5c1c498",
   "metadata": {},
   "outputs": [],
   "source": []
  },
  {
   "cell_type": "code",
   "execution_count": null,
   "id": "9b200c82",
   "metadata": {},
   "outputs": [],
   "source": []
  },
  {
   "cell_type": "code",
   "execution_count": null,
   "id": "f98fcdb1",
   "metadata": {},
   "outputs": [],
   "source": []
  },
  {
   "cell_type": "code",
   "execution_count": null,
   "id": "9dff8fcd",
   "metadata": {},
   "outputs": [],
   "source": []
  },
  {
   "cell_type": "code",
   "execution_count": null,
   "id": "e3e4e785",
   "metadata": {},
   "outputs": [],
   "source": []
  },
  {
   "cell_type": "code",
   "execution_count": null,
   "id": "239e4e57",
   "metadata": {},
   "outputs": [],
   "source": []
  },
  {
   "cell_type": "code",
   "execution_count": null,
   "id": "c7a08859",
   "metadata": {},
   "outputs": [],
   "source": []
  },
  {
   "cell_type": "code",
   "execution_count": null,
   "id": "43cc60d4",
   "metadata": {},
   "outputs": [],
   "source": []
  },
  {
   "cell_type": "code",
   "execution_count": null,
   "id": "354942e2",
   "metadata": {},
   "outputs": [],
   "source": []
  },
  {
   "cell_type": "code",
   "execution_count": null,
   "id": "98898e2f",
   "metadata": {},
   "outputs": [],
   "source": []
  },
  {
   "cell_type": "code",
   "execution_count": null,
   "id": "26aef464",
   "metadata": {},
   "outputs": [],
   "source": []
  },
  {
   "cell_type": "code",
   "execution_count": null,
   "id": "56297865",
   "metadata": {},
   "outputs": [],
   "source": []
  },
  {
   "cell_type": "code",
   "execution_count": null,
   "id": "0bdf1345",
   "metadata": {},
   "outputs": [],
   "source": []
  }
 ],
 "metadata": {
  "kernelspec": {
   "display_name": "Python 3",
   "language": "python",
   "name": "python3"
  },
  "language_info": {
   "codemirror_mode": {
    "name": "ipython",
    "version": 3
   },
   "file_extension": ".py",
   "mimetype": "text/x-python",
   "name": "python",
   "nbconvert_exporter": "python",
   "pygments_lexer": "ipython3",
   "version": "3.12.4"
  }
 },
 "nbformat": 4,
 "nbformat_minor": 5
}
