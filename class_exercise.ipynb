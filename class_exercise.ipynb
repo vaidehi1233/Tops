{
 "cells": [
  {
   "cell_type": "code",
   "execution_count": 1,
   "id": "d25a7074",
   "metadata": {},
   "outputs": [
    {
     "name": "stdout",
     "output_type": "stream",
     "text": [
      "\n",
      "Login successful!\n",
      "1. Deposit\n",
      "2. Withdraw\n",
      "Deposit successful! New balance: ₹5500.0\n"
     ]
    }
   ],
   "source": [
    "# ATM Simulation\n",
    "\n",
    "# Predefined password and balance\n",
    "password = \"1234\"\n",
    "balance = 5000  # Initial balance\n",
    "\n",
    "# Ask user to enter password\n",
    "user_password = input(\"Enter your ATM password: \")\n",
    "\n",
    "if user_password == password:\n",
    "    print(\"\\nLogin successful!\")\n",
    "    print(\"1. Deposit\")\n",
    "    print(\"2. Withdraw\")\n",
    "    \n",
    "    choice = input(\"Choose an option (1 or 2): \")\n",
    "    \n",
    "    if choice == \"1\":\n",
    "        deposit_amount = float(input(\"Enter amount to deposit: \"))\n",
    "        if deposit_amount > 0:\n",
    "            balance += deposit_amount\n",
    "            print(f\"Deposit successful! New balance: ₹{balance}\")\n",
    "        else:\n",
    "            print(\"Invalid amount. Deposit failed.\")\n",
    "\n",
    "    elif choice == \"2\":\n",
    "        withdraw_amount = float(input(\"Enter amount to withdraw: \"))\n",
    "        if withdraw_amount <= balance:\n",
    "            balance -= withdraw_amount\n",
    "            print(f\"Withdrawal successful! New balance: ₹{balance}\")\n",
    "        else:\n",
    "            print(\"Insufficient balance.\")\n",
    "\n",
    "    else:\n",
    "        print(\"Invalid choice. Please select 1 or 2.\")\n",
    "\n",
    "else:\n",
    "    print(\"Incorrect password. Access denied.\")\n"
   ]
  },
  {
   "cell_type": "markdown",
   "id": "734b5bd2",
   "metadata": {},
   "source": [
    "## ATM Deposite "
   ]
  },
  {
   "cell_type": "code",
   "execution_count": 4,
   "id": "bc2fe82f",
   "metadata": {},
   "outputs": [
    {
     "name": "stdout",
     "output_type": "stream",
     "text": [
      "chal password sahi dala tune logine ho gaya successfully...\n",
      "pese jama karne he achha achha.....\n",
      "ho gae jama, total itne hue dekhle..52000\n"
     ]
    }
   ],
   "source": [
    "bank_balance = 50000\n",
    "password = 1234\n",
    "\n",
    "password_bata = int(input(\"tera bank ka password bata pehle: \"))\n",
    "\n",
    "if password_bata==password:\n",
    "    print(\"chal password sahi dala tune logine ho gaya successfully...\")\n",
    "    \n",
    "\n",
    "    choice = input(\"1 press kar agar deposite karna he to varna 2 press kar withdraw karne k liye: \")\n",
    "\n",
    "    if choice == \"1\":\n",
    "        print(\"pese jama karne he achha achha.....\")\n",
    "        kitne_jama_karne_he = int(input(\"pese bata kitne jama karne he: \"))\n",
    "        if kitne_jama_karne_he> 0:\n",
    "            ho_gae_jama = bank_balance + kitne_jama_karne_he\n",
    "            print(f\"ho gae jama, total itne hue dekhle..{ho_gae_jama}\")\n",
    "        else:\n",
    "            print(\"nai ho sakte jama invalid amount he..\")\n",
    "\n",
    "    elif choice == \"2\":\n",
    "        print(\"tu upaadna chahata he pese thik he bata kitne upaadne he..\")\n",
    "        kitne_upadene_he = int(input(\"kitne upaadne he? : \"))\n",
    "        if bank_balance>= kitne_upadene_he:\n",
    "            ye_le_nikal_gae_pese = bank_balance - kitne_upadene_he\n",
    "            print(f\"ye_le_nikal_gae_pese: {kitne_upadene_he}\")\n",
    "            print(f\"ab tera toatal bank balance {ye_le_nikal_gae_pese} he.\")\n",
    "        else:\n",
    "            print(\"bank me pese hi nai he kangal...or aa gaya upadne pese..chala jaa...\")\n",
    "    \n",
    "    else:\n",
    "        print(\"choice hi galat dali he firse try kar...\")\n",
    "\n",
    "\n",
    "\n",
    "    \n",
    "else:\n",
    "    print(\"dusre ka pin chori kar k aya he kyaa password galat he....\")\n",
    "\n",
    "\n",
    "\n"
   ]
  },
  {
   "cell_type": "markdown",
   "id": "bb51bc2f",
   "metadata": {},
   "source": [
    "### AUTO PRICE DEPEND DISTANCE\n"
   ]
  },
  {
   "cell_type": "code",
   "execution_count": 14,
   "id": "b98a3206",
   "metadata": {},
   "outputs": [
    {
     "name": "stdout",
     "output_type": "stream",
     "text": [
      "150 rupe lagenge  jaane k liye...\n",
      "thik he to kitne me bethega gadi me...80 se 100 ke bich me bol...\n",
      "thik he itne le lunga..beth ja\n"
     ]
    }
   ],
   "source": [
    "distance = float(input(\"kitni dur jana he tereko....\"))\n",
    "\n",
    "\n",
    "if distance<=5 and distance>0:\n",
    "    print(\"100 rupe lagenge max 5 km jaane k liye...\")\n",
    "   \n",
    "    ride =input(\"bata yes or no? \")\n",
    "    if ride == \"yes\":\n",
    "        print(\"aa ja beth ja meri gadi me...\")\n",
    "    elif ride == \"no\":\n",
    "        print(\"thik he to kitne me bethega gadi me...80 se 100 ke bich me bol...\")\n",
    "        bata = int(input(\"bata kitne me behthega??  \"))\n",
    "        if bata<=100 and bata>=80:\n",
    "            print(\"thik he itne le lunga..beth ja\")\n",
    "        else:\n",
    "            print(\"tu kitna kanjuss he nai itna kam nai ho skata chala jaa..\")\n",
    "    else:\n",
    "        print(\"thik he isse kam nai ho skata...\") \n",
    "\n",
    "elif distance>5 and distance<=10:\n",
    "    print(\"150 rupe lagenge  jaane k liye...\")\n",
    "    \n",
    "    ride = input(\"bata yes or no? \")\n",
    "    if ride == \"yes\":\n",
    "        print(\"aa ja beth ja meri gadi me...\")\n",
    "    elif ride == \"no\":\n",
    "        print(\"thik he to kitne me bethega gadi me...80 se 100 ke bich me bol...\")\n",
    "        bata = int(input(\"bata kitne me behthega??  \"))\n",
    "        if bata>=130 and bata<=150:\n",
    "            print(\"thik he itne le lunga..beth ja\")\n",
    "        else:\n",
    "            print(\"tu kitna kanjuss he nai itna kam nai ho skata chala jaa..\")\n",
    "    else:\n",
    "        print(\"\")   \n",
    "\n",
    "elif distance>10 and distance<=20: \n",
    "    print(\"250 rupe lagenge  jaane k liye...\")\n",
    "    \n",
    "    ride = input(\"bata yes or no? \")\n",
    "    if ride == \"yes\":\n",
    "        print(\"aa ja beth ja meri gadi me...\")\n",
    "    elif ride == \"no\":\n",
    "        print(\"thik he to kitne me bethega gadi me 230  se 250 ke bich me bol...\")\n",
    "        bata = int(input(\"bata kitne me behthega??  \"))\n",
    "        if bata>=230 and bata<=250:\n",
    "            print(\"thik he itne le lunga..beth ja\")\n",
    "        else:\n",
    "            print(\"tu kitna kanjuss he nai itna kam nai ho skata chala jaa..\")\n",
    "    else:\n",
    "        print(\"thik he isse kam nai ho skata...\")\n",
    "\n",
    "else :\n",
    "    print(\"nai itna dur me nai jata train me beth ja...\")   \n",
    "   \n",
    "\n"
   ]
  },
  {
   "cell_type": "markdown",
   "id": "25c14420",
   "metadata": {},
   "source": [
    "### ecommerce "
   ]
  },
  {
   "cell_type": "code",
   "execution_count": 16,
   "id": "442ba9a4",
   "metadata": {},
   "outputs": [
    {
     "name": "stdout",
     "output_type": "stream",
     "text": [
      "you got the 650 rs. off\n",
      "you got 70 perecent off\n"
     ]
    }
   ],
   "source": [
    "order = int(input(\"kitne ka order liya he?\"))\n",
    "if order>=1000 and order<=1500:\n",
    "    print(\"you got the 300rs. off\")\n",
    "    \n",
    "    first_order = input(\"is it your first order say yes or no??\")\n",
    "    if first_order== \"yes\":\n",
    "        print(\"you got 50 perecent off\")\n",
    "    elif first_order== \"no\":\n",
    "        print(\"tera first order nai he firse aya tu koi nai chal tere ko 20 perecent off milega\")\n",
    "    else:\n",
    "        (\"yes or no me ans de\")\n",
    "\n",
    "elif order > 1500 and order <=2000:\n",
    "    print(\"you got the 650 rs. off\")\n",
    "    \n",
    "    first_order = input(\"is it your first order say yes or no??\")\n",
    "    if first_order== \"yes\":\n",
    "        print(\"you got 70 perecent off\")\n",
    "    elif first_order== \"no\":\n",
    "        print(\"tera first order nai he firse aya tu koi nai chal tere ko 30 perecent off milega q ki tera order 1500 se zyada he\")\n",
    "    else:\n",
    "        (\"yes or no me ans de\")\n",
    "\n",
    "else:\n",
    "    print(\"order zyadars ka kae kajuss....\")\n",
    "\n",
    "    \n",
    "    \n",
    " \n",
    "\n",
    "\n",
    "\n"
   ]
  },
  {
   "cell_type": "code",
   "execution_count": null,
   "id": "9edbc290",
   "metadata": {},
   "outputs": [],
   "source": []
  },
  {
   "cell_type": "code",
   "execution_count": null,
   "id": "ca8ba49e",
   "metadata": {},
   "outputs": [],
   "source": []
  },
  {
   "cell_type": "code",
   "execution_count": null,
   "id": "8b14f727",
   "metadata": {},
   "outputs": [],
   "source": []
  },
  {
   "cell_type": "code",
   "execution_count": null,
   "id": "93f5163a",
   "metadata": {},
   "outputs": [],
   "source": []
  },
  {
   "cell_type": "code",
   "execution_count": null,
   "id": "eae93530",
   "metadata": {},
   "outputs": [],
   "source": []
  },
  {
   "cell_type": "code",
   "execution_count": null,
   "id": "3cd74009",
   "metadata": {},
   "outputs": [],
   "source": []
  },
  {
   "cell_type": "code",
   "execution_count": null,
   "id": "50ece044",
   "metadata": {},
   "outputs": [],
   "source": []
  },
  {
   "cell_type": "code",
   "execution_count": null,
   "id": "03e18fd0",
   "metadata": {},
   "outputs": [],
   "source": []
  },
  {
   "cell_type": "code",
   "execution_count": null,
   "id": "129430a5",
   "metadata": {},
   "outputs": [],
   "source": []
  },
  {
   "cell_type": "code",
   "execution_count": null,
   "id": "42fe040d",
   "metadata": {},
   "outputs": [],
   "source": []
  },
  {
   "cell_type": "code",
   "execution_count": null,
   "id": "d3531de5",
   "metadata": {},
   "outputs": [],
   "source": []
  },
  {
   "cell_type": "code",
   "execution_count": null,
   "id": "cbe38a36",
   "metadata": {},
   "outputs": [],
   "source": []
  },
  {
   "cell_type": "code",
   "execution_count": null,
   "id": "309df9b3",
   "metadata": {},
   "outputs": [],
   "source": []
  },
  {
   "cell_type": "code",
   "execution_count": null,
   "id": "8dc04b87",
   "metadata": {},
   "outputs": [],
   "source": []
  },
  {
   "cell_type": "code",
   "execution_count": null,
   "id": "1170b138",
   "metadata": {},
   "outputs": [],
   "source": []
  },
  {
   "cell_type": "code",
   "execution_count": null,
   "id": "c6a68eaf",
   "metadata": {},
   "outputs": [],
   "source": []
  },
  {
   "cell_type": "code",
   "execution_count": null,
   "id": "79ec7594",
   "metadata": {},
   "outputs": [],
   "source": []
  }
 ],
 "metadata": {
  "kernelspec": {
   "display_name": "Python 3",
   "language": "python",
   "name": "python3"
  },
  "language_info": {
   "codemirror_mode": {
    "name": "ipython",
    "version": 3
   },
   "file_extension": ".py",
   "mimetype": "text/x-python",
   "name": "python",
   "nbconvert_exporter": "python",
   "pygments_lexer": "ipython3",
   "version": "3.12.4"
  }
 },
 "nbformat": 4,
 "nbformat_minor": 5
}
