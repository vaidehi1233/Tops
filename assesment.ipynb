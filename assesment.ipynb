{
 "cells": [
  {
   "cell_type": "markdown",
   "id": "beec964c",
   "metadata": {},
   "source": [
    "##### Assessment 2 Restaurant Ordering System Design a Python class RestaurantSystem to simulate a basic restaurant order management process. The system should support: Functional Requirements: ➔ Display Menu: ◆ Show a list of food items with prices and item codes. ➔ Take Order: ◆ Allow users to select multiple items by item code and quantity. ◆ Calculate total price and generate a unique order ID. ➔ View Order: ◆ Look up details of an order using the order ID. ➔ Cancel Order: ◆ Cancel an existing order using the order ID. ➔ Exit the system"
   ]
  },
  {
   "cell_type": "code",
   "execution_count": 2,
   "id": "a806176f",
   "metadata": {},
   "outputs": [
    {
     "name": "stdout",
     "output_type": "stream",
     "text": [
      "\n",
      "1.Show Menu  2.Take Order  3.View Order  4.Cancel Order  5.Exit\n"
     ]
    },
    {
     "ename": "ValueError",
     "evalue": "invalid literal for int() with base 10: 'enter'",
     "output_type": "error",
     "traceback": [
      "\u001b[1;31m---------------------------------------------------------------------------\u001b[0m",
      "\u001b[1;31mValueError\u001b[0m                                Traceback (most recent call last)",
      "Cell \u001b[1;32mIn[2], line 59\u001b[0m\n\u001b[0;32m     57\u001b[0m \u001b[38;5;28;01mwhile\u001b[39;00m \u001b[38;5;28;01mTrue\u001b[39;00m:\n\u001b[0;32m     58\u001b[0m     \u001b[38;5;28mprint\u001b[39m(\u001b[38;5;124m\"\u001b[39m\u001b[38;5;130;01m\\n\u001b[39;00m\u001b[38;5;124m1.Show Menu  2.Take Order  3.View Order  4.Cancel Order  5.Exit\u001b[39m\u001b[38;5;124m\"\u001b[39m)\n\u001b[1;32m---> 59\u001b[0m     ch \u001b[38;5;241m=\u001b[39m \u001b[38;5;28;43mint\u001b[39;49m\u001b[43m(\u001b[49m\u001b[38;5;28;43minput\u001b[39;49m\u001b[43m(\u001b[49m\u001b[38;5;124;43m\"\u001b[39;49m\u001b[38;5;124;43mEnter choice: \u001b[39;49m\u001b[38;5;124;43m\"\u001b[39;49m\u001b[43m)\u001b[49m\u001b[43m)\u001b[49m\n\u001b[0;32m     60\u001b[0m     \u001b[38;5;28;01mif\u001b[39;00m ch\u001b[38;5;241m==\u001b[39m\u001b[38;5;241m1\u001b[39m:\n\u001b[0;32m     61\u001b[0m         rest\u001b[38;5;241m.\u001b[39mshow_menu()\n",
      "\u001b[1;31mValueError\u001b[0m: invalid literal for int() with base 10: 'enter'"
     ]
    }
   ],
   "source": [
    "import random\n",
    "\n",
    "class RestaurantSystem:\n",
    "    def __init__(self):\n",
    "        self.menu = {\n",
    "            101: (\"Pizza\", 150),\n",
    "            102: (\"Burger\", 80),\n",
    "            103: (\"Pasta\", 120),\n",
    "            104: (\"Sandwich\", 60),\n",
    "            105: (\"Coffee\", 50)\n",
    "        }\n",
    "        self.orders = {}\n",
    "\n",
    "    def show_menu(self):\n",
    "        print(\"\\n--- Menu ---\")\n",
    "        for code,(item,price) in self.menu.items():\n",
    "            print(f\"{code} : {item} - ₹{price}\")\n",
    "\n",
    "    def take_order(self):\n",
    "        order_id = random.randint(1000,9999)\n",
    "        order_items = []\n",
    "        total = 0\n",
    "        while True:\n",
    "            code = int(input(\"Enter item code (0 to finish): \"))\n",
    "            if code==0:\n",
    "                break\n",
    "            if code not in self.menu:\n",
    "                print(\"invalid code\")\n",
    "                continue\n",
    "            qty = int(input(\"Enter qty: \"))\n",
    "            item,price = self.menu[code]\n",
    "            order_items.append((item, qty, price*qty))\n",
    "            total += price*qty\n",
    "        self.orders[order_id] = (order_items,total)\n",
    "        print(f\"Order placed! ID = {order_id}, Total = ₹{total}\")\n",
    "\n",
    "    def view_order(self, oid):\n",
    "        if oid in self.orders:\n",
    "            print(f\"\\nOrder ID: {oid}\")\n",
    "            items,total = self.orders[oid]\n",
    "            for it,qty,amt in items:\n",
    "                print(f\"{it} x{qty} = ₹{amt}\")\n",
    "            print(\"Total =\", total)\n",
    "        else:\n",
    "            print(\"Order not found!\")\n",
    "\n",
    "    def cancel_order(self, oid):\n",
    "        if oid in self.orders:\n",
    "            del self.orders[oid]\n",
    "            print(f\"Order {oid} cancelled\")\n",
    "        else:\n",
    "            print(\"Order not found!\")\n",
    "\n",
    "# main\n",
    "rest = RestaurantSystem()\n",
    "\n",
    "while True:\n",
    "    print(\"\\n1.Show Menu  2.Take Order  3.View Order  4.Cancel Order  5.Exit\")\n",
    "    ch = int(input(\"Enter choice: \"))\n",
    "    if ch==1:\n",
    "        rest.show_menu()\n",
    "    elif ch==2:\n",
    "        rest.take_order()\n",
    "    elif ch==3:\n",
    "        oid = int(input(\"Enter order ID: \"))\n",
    "        rest.view_order(oid)\n",
    "    elif ch==4:\n",
    "        oid = int(input(\"Enter order ID: \"))\n",
    "        rest.cancel_order(oid)\n",
    "    elif ch==5:\n",
    "        print(\"Exiting...\")\n",
    "        break\n",
    "    else:\n",
    "        print(\"invalid choice\")\n"
   ]
  },
  {
   "cell_type": "code",
   "execution_count": null,
   "id": "db6f6f83",
   "metadata": {},
   "outputs": [],
   "source": []
  },
  {
   "cell_type": "code",
   "execution_count": null,
   "id": "3acc3c11",
   "metadata": {},
   "outputs": [],
   "source": []
  },
  {
   "cell_type": "code",
   "execution_count": null,
   "id": "45c5a0c1",
   "metadata": {},
   "outputs": [],
   "source": []
  },
  {
   "cell_type": "code",
   "execution_count": null,
   "id": "35eff96a",
   "metadata": {},
   "outputs": [],
   "source": []
  },
  {
   "cell_type": "code",
   "execution_count": null,
   "id": "5e92e476",
   "metadata": {},
   "outputs": [],
   "source": []
  },
  {
   "cell_type": "code",
   "execution_count": null,
   "id": "484388e6",
   "metadata": {},
   "outputs": [],
   "source": []
  }
 ],
 "metadata": {
  "kernelspec": {
   "display_name": "Python 3",
   "language": "python",
   "name": "python3"
  },
  "language_info": {
   "codemirror_mode": {
    "name": "ipython",
    "version": 3
   },
   "file_extension": ".py",
   "mimetype": "text/x-python",
   "name": "python",
   "nbconvert_exporter": "python",
   "pygments_lexer": "ipython3",
   "version": "3.12.4"
  }
 },
 "nbformat": 4,
 "nbformat_minor": 5
}
